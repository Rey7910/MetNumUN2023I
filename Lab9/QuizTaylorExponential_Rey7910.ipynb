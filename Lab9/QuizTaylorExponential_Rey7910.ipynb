{
  "nbformat": 4,
  "nbformat_minor": 0,
  "metadata": {
    "colab": {
      "provenance": []
    },
    "kernelspec": {
      "name": "python3",
      "display_name": "Python 3"
    },
    "language_info": {
      "name": "python"
    }
  },
  "cells": [
    {
      "cell_type": "markdown",
      "metadata": {
        "id": "GfjJs2zaFLfR"
      },
      "source": [
        "# **Test 1 NM 2023 I UNCode Programming Assignment**\n",
        "\n",
        "\n"
      ]
    },
    {
      "cell_type": "markdown",
      "metadata": {
        "id": "zNKJSMViFOmX"
      },
      "source": [
        "#**|||||||||||||||||||||||||||||||||||||||||||||||||||||||||||||||||||||||||||||||||||||||||||||||||||||||||||||||||||||||||||||||||||||||||||||**#"
      ]
    },
    {
      "cell_type": "markdown",
      "metadata": {
        "id": "3vUhQTJdGE-8"
      },
      "source": [
        "#**1. Modify the given optimized code for PLU factorization to generate the sequence of transfromations from $A$,$U_1$,$U_2$,$\\cdots$,$U_{n-2}$ to the uppper tiangular matrix $U$** \n",
        "\n",
        "\n",
        "\n",
        "\n",
        "\n"
      ]
    },
    {
      "cell_type": "code",
      "source": [
        "import numpy as np\n",
        "\n",
        "def diy_lu_optimized_sequences(a):\n",
        "    n = len(a)\n",
        "    secuencia_U = [np.copy(a)]  # Inicializar la secuencia U con la matriz original\n",
        "    secuencia_P = []  # Inicializar la secuencia P como una lista vacía\n",
        "\n",
        "    for k in range(n-1):\n",
        "        max_val = np.abs(secuencia_U[k][k, k])\n",
        "        max_fila = k\n",
        "        for i in range(k+1, n):\n",
        "            if np.abs(secuencia_U[k][i, k]) > max_val:\n",
        "                max_val = np.abs(secuencia_U[k][i, k])\n",
        "                max_fila = i\n",
        "        \n",
        "        if max_fila != k:\n",
        "            # Intercambiar las filas k y max_fila en secuencia_U[k]\n",
        "            secuencia_U[k][[k, max_fila], :] = secuencia_U[k][[max_fila, k], :]\n",
        "            \n",
        "            # Registrar los intercambios de filas en secuencia_P\n",
        "            secuencia_P.append((k, max_fila))\n",
        "        \n",
        "        for i in range(k+1, n):\n",
        "            factor = secuencia_U[k][i, k] / secuencia_U[k][k, k]\n",
        "            secuencia_U[k][i, k] = factor  # Almacenar el factor en la parte inferior de U\n",
        "            secuencia_U[k][i, k+1:] -= factor * secuencia_U[k][k, k+1:]\n",
        "    \n",
        "    return secuencia_U, secuencia_P"
      ],
      "metadata": {
        "id": "Sfo7nlinoBUX"
      },
      "execution_count": 42,
      "outputs": []
    },
    {
      "cell_type": "markdown",
      "source": [
        "$$ \\Lambda_1 P_1 A  = U_1 $$  \n",
        "$$ \\Lambda_2 P_2 U_1  = U_2$$\n",
        "$$\\vdots$$\n",
        "$$\\Lambda_{n-1} P_{n-1} U_{n-2} = U$$"
      ],
      "metadata": {
        "id": "NaE35TR0vDVh"
      }
    },
    {
      "cell_type": "markdown",
      "metadata": {
        "id": "cBnnOcz1u56h"
      },
      "source": [
        "---\n",
        "\n",
        "###**Problem Description**\n",
        "\n",
        "\n",
        "**Task:** Given a square matrix $A$ generate the sequence of transformations from $A$,$U_1$,$U_2$,$\\cdots$,$U_{n-2}$ to the uppper tiangular matrix $U$ and the sequence of row swaps performed.\n",
        "\n",
        "---\n",
        "\n",
        "**Input Format:** the square matrix $A$ is a numpy square matrix.\n",
        "\n",
        "**Output Format:** A tuple of the sequence of transformations [$A$,$U_1$,$U_2$,$\\cdots$,$U_{n-2}$,$U$] is a list of numpy matrices with its elements rounded to $3$ decimal places and  the sequence of row swaps is a list of sorted tuples of the indices of the rows swapped.\n",
        "\n",
        "---\n",
        "\n",
        "\n",
        "\n",
        "\n",
        "\n"
      ]
    },
    {
      "cell_type": "markdown",
      "metadata": {
        "id": "PjiZC1byHqJu"
      },
      "source": [
        "**Sample testcases**\n",
        "\n",
        "```python\n",
        "#run this sample textcases on a cell to help you validate your solution\n",
        "\n",
        "A = np.array([[4,3,1], [5,7,0], [9,9,3]])\n",
        "\n",
        "diy_lu_optimized_sequences(A)\n",
        "\n",
        "#  --> Expected output: ([array([[4., 3., 1.],\n",
        "         [5., 7., 0.],\n",
        "         [9., 9., 3.]]),\n",
        "  array([[ 9.   ,  3.   ,  1.   ],\n",
        "         [ 0.   ,  5.333, -0.556],\n",
        "         [ 0.   ,  7.667,  2.556]]),\n",
        "  array([[ 9.   ,  3.   ,  1.   ],\n",
        "         [ 0.   ,  7.667, -0.556],\n",
        "         [ 0.   ,  0.   ,  2.942]])],\n",
        " [(0, 2), (1, 2)])\n",
        "\n",
        "A = np.array([[1,2,3,4], [2,3,4,5], [0,1,2,3],[6,7,8,9]])\n",
        "\n",
        "diy_lu_optimized_sequences(A)\n",
        "\n",
        "#  --> Expected output: ([array([[1., 2., 3., 4.],\n",
        "         [2., 3., 4., 5.],\n",
        "         [0., 1., 2., 3.],\n",
        "         [6., 7., 8., 9.]]),\n",
        "  array([[6.   , 2.   , 3.   , 4.   ],\n",
        "         [0.   , 2.333, 3.   , 3.667],\n",
        "         [0.   , 1.   , 2.   , 3.   ],\n",
        "         [0.   , 6.667, 7.5  , 8.333]]),\n",
        "  array([[6.   , 2.   , 3.   , 4.   ],\n",
        "         [0.   , 6.667, 3.   , 3.667],\n",
        "         [0.   , 0.   , 1.55 , 2.45 ],\n",
        "         [0.   , 0.   , 6.45 , 7.05 ]]),\n",
        "  array([[6.   , 2.   , 3.   , 4.   ],\n",
        "         [0.   , 6.667, 3.   , 3.667],\n",
        "         [0.   , 0.   , 6.45 , 2.45 ],\n",
        "         [0.   , 0.   , 0.   , 6.461]])],\n",
        " [(0, 3), (1, 3), (2, 3)])\n",
        "```\n",
        "\n",
        "---"
      ]
    },
    {
      "cell_type": "markdown",
      "metadata": {
        "id": "DJ_bHorAF-Ip"
      },
      "source": [
        "**Solution**"
      ]
    },
    {
      "cell_type": "code",
      "source": [
        "import math\n",
        "\n",
        "def Taylor_e_to_x_nterm_plus_one_less_epsilon(x, epsilon):\n",
        "    if x > 0:\n",
        "        n = 0\n",
        "        e_to_x = 0\n",
        "        term = 1\n",
        "\n",
        "        while abs(term) >= epsilon:\n",
        "            e_to_x += term\n",
        "            term *= x / (n + 1)\n",
        "            n += 1\n",
        "\n",
        "        return n, e_to_x\n",
        "\n",
        "    elif x <= 0:\n",
        "        n = 0\n",
        "        e_to_minus_x = 0\n",
        "        term = 1\n",
        "\n",
        "        while abs(term) >= epsilon:\n",
        "            e_to_minus_x += term\n",
        "            term *= -x / (n + 1)\n",
        "            n += 1\n",
        "\n",
        "        e_to_x = 1 / e_to_minus_x\n",
        "\n",
        "        return n, e_to_x"
      ],
      "metadata": {
        "id": "XzUyDEBK217t"
      },
      "execution_count": 67,
      "outputs": []
    },
    {
      "cell_type": "code",
      "source": [
        "Taylor_e_to_x_nterm_plus_one_less_epsilon(x=-700,epsilon=10**(-19))\n"
      ],
      "metadata": {
        "id": "B5Yrweq9yY2V",
        "colab": {
          "base_uri": "https://localhost:8080/"
        },
        "outputId": "17053f39-e52e-49c7-c1b1-eac689854bd8"
      },
      "execution_count": 68,
      "outputs": [
        {
          "output_type": "execute_result",
          "data": {
            "text/plain": [
              "(1942, 9.859676543759759e-305)"
            ]
          },
          "metadata": {},
          "execution_count": 68
        }
      ]
    },
    {
      "cell_type": "code",
      "source": [],
      "metadata": {
        "id": "MgXUap7y216W"
      },
      "execution_count": null,
      "outputs": []
    }
  ]
}