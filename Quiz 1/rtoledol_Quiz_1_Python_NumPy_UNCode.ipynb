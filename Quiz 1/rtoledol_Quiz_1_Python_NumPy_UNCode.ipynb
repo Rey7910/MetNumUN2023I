{
  "nbformat": 4,
  "nbformat_minor": 0,
  "metadata": {
    "colab": {
      "provenance": []
    },
    "kernelspec": {
      "name": "python3",
      "display_name": "Python 3"
    }
  },
  "cells": [
    {
      "cell_type": "code",
      "source": [
        "#Do not change this function's name, parameters or output format. It will be used in automatic grading.\n",
        "def FizzBuzz(x):\n",
        "\n",
        "    answer =\"\"\n",
        "\n",
        "    if(x%3 == 0 and x%5!=0):\n",
        "      answer=\"Fizz!\"\n",
        "    \n",
        "    elif(x%5==0 and x%3!=0):\n",
        "      answer = \"Buzz!\"\n",
        "    elif(x%5==0 and x%3==0):\n",
        "      answer = \"FizzBuzz!\"\n",
        "    else:\n",
        "      answer = \"...\"\n",
        "\n",
        "\n",
        "    return answer\n",
        "\n",
        "\n"
      ],
      "metadata": {
        "id": "4kkesp9PQisR"
      },
      "execution_count": null,
      "outputs": []
    },
    {
      "cell_type": "code",
      "metadata": {
        "id": "xicbXt1uYDDt",
        "colab": {
          "base_uri": "https://localhost:8080/"
        },
        "outputId": "0f49a115-91b6-4e85-def5-d2c553768b93"
      },
      "source": [
        "print(FizzBuzz(3))\n",
        "print(FizzBuzz(7))\n",
        "print(FizzBuzz(5))\n",
        "print(FizzBuzz(11))\n",
        "print(FizzBuzz(15))"
      ],
      "execution_count": null,
      "outputs": [
        {
          "output_type": "stream",
          "name": "stdout",
          "text": [
            "Fizz!\n",
            "...\n",
            "Buzz!\n",
            "...\n",
            "FizzBuzz!\n"
          ]
        }
      ]
    },
    {
      "cell_type": "code",
      "source": [
        "#Do not change this function's name, parameters or output format. It will be used in automatic grading.\n",
        "def FizzBuzzList(n):\n",
        "\n",
        "    ans = [] \n",
        "\n",
        "    for i in range(1,n+1):\n",
        "      ans.append(FizzBuzz(i))\n",
        "\n",
        "    return ans"
      ],
      "metadata": {
        "id": "dIYchJvEZMEJ"
      },
      "execution_count": null,
      "outputs": []
    },
    {
      "cell_type": "code",
      "source": [
        "print(FizzBuzzList(5))\n",
        "print(FizzBuzzList(-30))"
      ],
      "metadata": {
        "id": "4EXUbJmJZxPq",
        "colab": {
          "base_uri": "https://localhost:8080/"
        },
        "outputId": "3bab221c-7e92-42a2-c32f-bc2db05c9325"
      },
      "execution_count": null,
      "outputs": [
        {
          "output_type": "stream",
          "name": "stdout",
          "text": [
            "['...', '...', 'Fizz!', '...', 'Buzz!']\n",
            "[]\n"
          ]
        }
      ]
    },
    {
      "cell_type": "code",
      "source": [
        "import numpy as np\n",
        "\n",
        "X = np.array([1.2,3.2,4.3,5.6])\n",
        "print(X.mean())\n",
        "print(X.std())"
      ],
      "metadata": {
        "colab": {
          "base_uri": "https://localhost:8080/"
        },
        "id": "PZnHitR4lrMh",
        "outputId": "a116b36c-e224-41bb-9dd0-0be61fb60b40"
      },
      "execution_count": null,
      "outputs": [
        {
          "output_type": "stream",
          "name": "stdout",
          "text": [
            "3.5749999999999997\n",
            "1.6130328576938535\n"
          ]
        }
      ]
    },
    {
      "cell_type": "code",
      "source": [
        "#Do not change this function's name, parameters or output format. It will be used in automatic grading.\n",
        "\n",
        "import numpy as np\n",
        "\n",
        "def standarize(X):\n",
        "  X_standarized = (X - np.mean(X)) / np.std(X)# only one line of code\n",
        "  return X_standarized"
      ],
      "metadata": {
        "id": "vUf0_xqXgHSj"
      },
      "execution_count": null,
      "outputs": []
    },
    {
      "cell_type": "code",
      "source": [
        "t = [array([], dtype=float64), array([nan]), array([-1.,  1.]), array([-1.22474487,  0.        ,  1.22474487]), array([-1.34164079, -0.4472136 ,  0.4472136 ,  1.34164079]), array([-1.41421356, -0.70710678,  0.        ,  0.70710678,  1.41421356]), array([-1.46385011, -0.87831007, -0.29277002,  0.29277002,  0.87831007,\n",
        "        1.46385011]), array([-1.5, -1. , -0.5,  0. ,  0.5,  1. ,  1.5]), array([-1.52752523, -1.09108945, -0.65465367, -0.21821789,  0.21821789,\n",
        "        0.65465367,  1.09108945,  1.52752523]), array([-1.54919334, -1.161895  , -0.77459667, -0.38729833,  0.        ,\n",
        "        0.38729833,  0.77459667,  1.161895  ,  1.54919334])]"
      ],
      "metadata": {
        "id": "C9N6KoIhlA6M"
      },
      "execution_count": null,
      "outputs": []
    },
    {
      "cell_type": "code",
      "source": [
        "import numpy as np\n",
        "A = np.array([\n",
        "    [1, 0, 2, 9, 2],\n",
        "    [9, 2, 6, 5, 7],\n",
        "    [6, 4, 3, 4, 7]\n",
        "    \n",
        "])\n",
        "\n",
        "print(A.astype(float))\n",
        "\n",
        "print(np.diag(A))\n",
        "\n",
        "print(np.diag(np.diag(A)))"
      ],
      "metadata": {
        "colab": {
          "base_uri": "https://localhost:8080/"
        },
        "id": "H8jtLvpMuvep",
        "outputId": "80d19ac5-3f7c-4e58-b12a-db9397f09185"
      },
      "execution_count": null,
      "outputs": [
        {
          "output_type": "stream",
          "name": "stdout",
          "text": [
            "[[1. 0. 2. 9. 2.]\n",
            " [9. 2. 6. 5. 7.]\n",
            " [6. 4. 3. 4. 7.]]\n",
            "[1 2 3]\n",
            "[[1 0 0]\n",
            " [0 2 0]\n",
            " [0 0 3]]\n"
          ]
        }
      ]
    },
    {
      "cell_type": "code",
      "source": [
        "#Do not change this function's name, parameters or output format. It will be used in automatic grading.\n",
        "\n",
        "import numpy as np\n",
        "\n",
        "def main_diagonal_matrix(A):\n",
        "  D = np.diag(np.diag(A)).astype(float)# only one line of code\n",
        "  return D"
      ],
      "metadata": {
        "id": "thogtwflo6-x"
      },
      "execution_count": null,
      "outputs": []
    }
  ]
}
