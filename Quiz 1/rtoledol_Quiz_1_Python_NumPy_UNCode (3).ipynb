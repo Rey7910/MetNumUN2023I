{
  "nbformat": 4,
  "nbformat_minor": 0,
  "metadata": {
    "colab": {
      "provenance": []
    },
    "kernelspec": {
      "name": "python3",
      "display_name": "Python 3"
    }
  },
  "cells": [
    {
      "cell_type": "code",
      "metadata": {
        "id": "875DsJCur8zB",
        "colab": {
          "base_uri": "https://localhost:8080/"
        },
        "outputId": "f1aa79be-8821-4463-dfb2-50e505e05b82"
      },
      "source": [
        "!python --version\n",
        "import numpy as np\n",
        "\n",
        "print('NumPy', np.__version__)"
      ],
      "execution_count": null,
      "outputs": [
        {
          "output_type": "stream",
          "name": "stdout",
          "text": [
            "Python 3.7.13\n",
            "NumPy 1.21.6\n"
          ]
        }
      ]
    },
    {
      "cell_type": "markdown",
      "metadata": {
        "id": "Xyl5fF0zr9r4"
      },
      "source": [
        "This quiz was created originaly in:\n",
        "\n",
        "- Python 3.6.9\n",
        "\n",
        "- NumPy: 1.19.5"
      ]
    },
    {
      "cell_type": "markdown",
      "source": [
        "## **1. *FizzBuzz*  - Python**"
      ],
      "metadata": {
        "id": "rN2shbVJV7-S"
      }
    },
    {
      "cell_type": "markdown",
      "source": [
        "**Sample testcases**\n",
        "\n",
        "```python\n",
        "#run this sample testcases to help you validate your solution\n",
        "\n",
        "FizzBuzz(3)\n",
        "\n",
        "#  --> Expected output: Fizz!\n",
        "\n",
        "FizzBuzz(11)\n",
        "\n",
        "#  --> Expected output: ...\n",
        "\n",
        "FizzBuzz(5)\n",
        "#  --> Expected output: Buzz!\n",
        "\n",
        "FizzBuzz(7)\n",
        "#  --> Expected output:...\n",
        "\n",
        "FizzBuzz(15)\n",
        "#  --> Expected output: FizzBuzz!\n",
        "```\n",
        "\n",
        "---"
      ],
      "metadata": {
        "id": "seLwJoVTPqMb"
      }
    },
    {
      "cell_type": "markdown",
      "source": [
        "**Solution**"
      ],
      "metadata": {
        "id": "BX8ejJrpQdgb"
      }
    },
    {
      "cell_type": "code",
      "source": [
        "#Do not change this function's name, parameters or output format. It will be used in automatic grading.\n",
        "def FizzBuzz(x):\n",
        "\n",
        "    answer =\"\"\n",
        "\n",
        "    if(x%3 == 0 and x%5!=0):\n",
        "      answer=\"Fizz!\"\n",
        "    \n",
        "    elif(x%5==0 and x%3!=0):\n",
        "      answer = \"Buzz!\"\n",
        "    elif(x%5==0 and x%3==0):\n",
        "      answer = \"FizzBuzz!\"\n",
        "    else:\n",
        "      answer = \"...\"\n",
        "\n",
        "\n",
        "    return answer\n",
        "\n",
        "\n"
      ],
      "metadata": {
        "id": "4kkesp9PQisR"
      },
      "execution_count": null,
      "outputs": []
    },
    {
      "cell_type": "markdown",
      "metadata": {
        "id": "BA-nbOmnPYl6"
      },
      "source": [
        "<details>    \n",
        "<summary>\n",
        "    <font size=\"3\" color=\"darkgreen\"><b>Verification cases </b></font>\n",
        "</summary>\n"
      ]
    },
    {
      "cell_type": "code",
      "metadata": {
        "id": "xicbXt1uYDDt",
        "colab": {
          "base_uri": "https://localhost:8080/"
        },
        "outputId": "0f49a115-91b6-4e85-def5-d2c553768b93"
      },
      "source": [
        "print(FizzBuzz(3))\n",
        "print(FizzBuzz(7))\n",
        "print(FizzBuzz(5))\n",
        "print(FizzBuzz(11))\n",
        "print(FizzBuzz(15))"
      ],
      "execution_count": null,
      "outputs": [
        {
          "output_type": "stream",
          "name": "stdout",
          "text": [
            "Fizz!\n",
            "...\n",
            "Buzz!\n",
            "...\n",
            "FizzBuzz!\n"
          ]
        }
      ]
    },
    {
      "cell_type": "markdown",
      "metadata": {
        "id": "gS8eqbf4X2Am"
      },
      "source": [
        "Expected output:\n",
        "``` \n",
        "Fizz!\n",
        "...\n",
        "Buzz!\n",
        "...\n",
        "FizzBuzz!\n",
        "```"
      ]
    },
    {
      "cell_type": "markdown",
      "source": [
        "**Sample testcases**\n",
        "\n",
        "```python\n",
        "#run this sample testcases to help you validate your solution\n",
        "\n",
        "FizzBuzzList(4)\n",
        "#  --> Expected output: ['...', '...', 'Fizz!', '...']\n",
        " \n",
        "FizzBuzzList(-1)\n",
        "#  --> Expected output: []\n",
        "```\n",
        "---"
      ],
      "metadata": {
        "id": "MbjrKp6ZYOUq"
      }
    },
    {
      "cell_type": "markdown",
      "source": [
        "**Solution**"
      ],
      "metadata": {
        "id": "O-OLGB5BZIQq"
      }
    },
    {
      "cell_type": "code",
      "source": [
        "#Do not change this function's name, parameters or output format. It will be used in automatic grading.\n",
        "def FizzBuzzList(n):\n",
        "\n",
        "    ans = [] \n",
        "\n",
        "    for i in range(1,n+1):\n",
        "      ans.append(FizzBuzz(i))\n",
        "\n",
        "    return ans"
      ],
      "metadata": {
        "id": "dIYchJvEZMEJ"
      },
      "execution_count": null,
      "outputs": []
    },
    {
      "cell_type": "markdown",
      "source": [
        "<details>    \n",
        "<summary>\n",
        "    <font size=\"3\" color=\"darkgreen\"><b>Verification cases </b></font>\n",
        "</summary>"
      ],
      "metadata": {
        "id": "P0-XPf1xZokq"
      }
    },
    {
      "cell_type": "code",
      "source": [
        "print(FizzBuzzList(5))\n",
        "print(FizzBuzzList(-30))"
      ],
      "metadata": {
        "id": "4EXUbJmJZxPq",
        "colab": {
          "base_uri": "https://localhost:8080/"
        },
        "outputId": "3bab221c-7e92-42a2-c32f-bc2db05c9325"
      },
      "execution_count": null,
      "outputs": [
        {
          "output_type": "stream",
          "name": "stdout",
          "text": [
            "['...', '...', 'Fizz!', '...', 'Buzz!']\n",
            "[]\n"
          ]
        }
      ]
    },
    {
      "cell_type": "markdown",
      "source": [
        "Expected output:\n",
        "``` \n",
        "['...', '...', 'Fizz!', '...', 'Buzz!']\n",
        "[]\n",
        "```"
      ],
      "metadata": {
        "id": "rybnp7wcZu_K"
      }
    },
    {
      "cell_type": "markdown",
      "source": [
        "**IMPORTANT:** Solve this exercise using the ***`NumPy`*** functions ***`mean`*** and ***`std`*** not using prograrmming structures like ***`if`*** or ***`for`***."
      ],
      "metadata": {
        "id": "W8J-661cl5-Z"
      }
    },
    {
      "cell_type": "code",
      "source": [
        "import numpy as np\n",
        "\n",
        "X = np.array([1.2,3.2,4.3,5.6])\n",
        "print(X.mean())\n",
        "print(X.std())"
      ],
      "metadata": {
        "colab": {
          "base_uri": "https://localhost:8080/"
        },
        "id": "PZnHitR4lrMh",
        "outputId": "a116b36c-e224-41bb-9dd0-0be61fb60b40"
      },
      "execution_count": null,
      "outputs": [
        {
          "output_type": "stream",
          "name": "stdout",
          "text": [
            "3.5749999999999997\n",
            "1.6130328576938535\n"
          ]
        }
      ]
    },
    {
      "cell_type": "markdown",
      "source": [
        "**Sample testcases**\n",
        "\n",
        "```python\n",
        "#run this sample testcases to help you validate your solution\n",
        "\n",
        "X0 = np.array([4.8, 4.0, 4.2, 4.0, 5.0])\n",
        "standarize(X0)\n",
        "\n",
        "#  --> Expected output: array([ 0.95346259, -0.95346259, -0.47673129, -0.95346259,  1.43019388])\n",
        "\n",
        "X1 = np.arange(5)\n",
        "standarize(X1)\n",
        "\n",
        "#  --> Expected output: array([-1.41421356, -0.70710678,  0.        ,  0.70710678,  1.41421356])\n",
        "\n",
        "```\n",
        "---"
      ],
      "metadata": {
        "id": "6N0JF_0-m_AB"
      }
    },
    {
      "cell_type": "markdown",
      "source": [
        "**Solution**"
      ],
      "metadata": {
        "id": "frfaDDj0k7tJ"
      }
    },
    {
      "cell_type": "code",
      "source": [
        "#Do not change this function's name, parameters or output format. It will be used in automatic grading.\n",
        "\n",
        "import numpy as np\n",
        "\n",
        "def standarize(X):\n",
        "  X_standarized = (X - np.mean(X)) / np.std(X)# only one line of code\n",
        "  return X_standarized"
      ],
      "metadata": {
        "id": "vUf0_xqXgHSj"
      },
      "execution_count": null,
      "outputs": []
    },
    {
      "cell_type": "markdown",
      "source": [
        "## **4. *Main diagonal matrix*  - NumPy**"
      ],
      "metadata": {
        "id": "4GU-LwecnqCR"
      }
    },
    {
      "cell_type": "code",
      "source": [
        "t = [array([], dtype=float64), array([nan]), array([-1.,  1.]), array([-1.22474487,  0.        ,  1.22474487]), array([-1.34164079, -0.4472136 ,  0.4472136 ,  1.34164079]), array([-1.41421356, -0.70710678,  0.        ,  0.70710678,  1.41421356]), array([-1.46385011, -0.87831007, -0.29277002,  0.29277002,  0.87831007,\n",
        "        1.46385011]), array([-1.5, -1. , -0.5,  0. ,  0.5,  1. ,  1.5]), array([-1.52752523, -1.09108945, -0.65465367, -0.21821789,  0.21821789,\n",
        "        0.65465367,  1.09108945,  1.52752523]), array([-1.54919334, -1.161895  , -0.77459667, -0.38729833,  0.        ,\n",
        "        0.38729833,  0.77459667,  1.161895  ,  1.54919334])]"
      ],
      "metadata": {
        "id": "C9N6KoIhlA6M"
      },
      "execution_count": null,
      "outputs": []
    },
    {
      "cell_type": "code",
      "source": [
        "import numpy as np\n",
        "A = np.array([\n",
        "    [1, 0, 2, 9, 2],\n",
        "    [9, 2, 6, 5, 7],\n",
        "    [6, 4, 3, 4, 7]\n",
        "    \n",
        "])\n",
        "\n",
        "print(A.astype(float))\n",
        "\n",
        "print(np.diag(A))\n",
        "\n",
        "print(np.diag(np.diag(A)))"
      ],
      "metadata": {
        "colab": {
          "base_uri": "https://localhost:8080/"
        },
        "id": "H8jtLvpMuvep",
        "outputId": "80d19ac5-3f7c-4e58-b12a-db9397f09185"
      },
      "execution_count": null,
      "outputs": [
        {
          "output_type": "stream",
          "name": "stdout",
          "text": [
            "[[1. 0. 2. 9. 2.]\n",
            " [9. 2. 6. 5. 7.]\n",
            " [6. 4. 3. 4. 7.]]\n",
            "[1 2 3]\n",
            "[[1 0 0]\n",
            " [0 2 0]\n",
            " [0 0 3]]\n"
          ]
        }
      ]
    },
    {
      "cell_type": "markdown",
      "source": [
        "**Sample testcases**\n",
        "\n",
        "```python\n",
        "#run this sample testcases to help you validate your solution\n",
        "\n",
        "A = np.array([\n",
        "    [1, 0, 2, 9, 2],\n",
        "    [9, 2, 6, 5, 7],\n",
        "    [6, 4, 3, 4, 7]\n",
        "    \n",
        "])\n",
        "main_diagonal_matrix(A)\n",
        "#  --> Expected output: \n",
        "array([[1., 0., 0.],\n",
        "       [0., 2., 0.],\n",
        "       [0., 0., 3.]])\n",
        "\n",
        "A = np.array([\n",
        "    [4, 0, 2],\n",
        "    [9, 5, 6],\n",
        "    [1, 9, 6],\n",
        "    [3, 0, 5]\n",
        "    \n",
        "])\n",
        "main_diagonal_matrix(A)\n",
        "#  --> Expected output: \n",
        "array([[4., 0., 0.],\n",
        "       [0., 5., 0.],\n",
        "       [0., 0., 6.]])\n",
        "```\n",
        "---"
      ],
      "metadata": {
        "id": "nG7hzC4JtrvZ"
      }
    },
    {
      "cell_type": "code",
      "source": [
        "#Do not change this function's name, parameters or output format. It will be used in automatic grading.\n",
        "\n",
        "import numpy as np\n",
        "\n",
        "def main_diagonal_matrix(A):\n",
        "  D = np.diag(np.diag(A)).astype(float)# only one line of code\n",
        "  return D"
      ],
      "metadata": {
        "id": "thogtwflo6-x"
      },
      "execution_count": null,
      "outputs": []
    },
    {
      "cell_type": "markdown",
      "metadata": {
        "id": "4Igf_jPe3yBd"
      },
      "source": [
        "**¡Congratulations!** You have finished your first quiz.\n",
        "\n"
      ]
    }
  ]
}