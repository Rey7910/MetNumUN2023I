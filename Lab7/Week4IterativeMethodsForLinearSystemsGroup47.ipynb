{
  "cells": [
    {
      "cell_type": "markdown",
      "source": [
        "# Lab 7\n",
        "* IVAN ALEXANDER MORALES MUÑOZ\n",
        "* ANGEL GUILLERMO PEÑARREDONDA SILVA\n",
        "* REINALDO TOLEDO LEGUIZAMÓN"
      ],
      "metadata": {
        "id": "9zOn4NXm1NlI"
      }
    },
    {
      "cell_type": "markdown",
      "metadata": {
        "id": "_7zSSeX21Grj"
      },
      "source": [
        "# Simple iteration for systems of linear equations"
      ]
    },
    {
      "cell_type": "markdown",
      "metadata": {
        "id": "GRz8VJ0N1Grn"
      },
      "source": [
        "First, generate a random diagonally dominant matrix, for testing."
      ]
    },
    {
      "cell_type": "code",
      "execution_count": 17,
      "metadata": {
        "collapsed": true,
        "id": "jTVkb-WZ1Gro"
      },
      "outputs": [],
      "source": [
        "import numpy as np\n",
        "rndm = np.random.RandomState(1234)\n",
        "\n",
        "n = 10\n",
        "A = rndm.uniform(size=(n, n)) + np.diagflat([15]*n)\n",
        "b = rndm.uniform(size=n)"
      ]
    },
    {
      "cell_type": "code",
      "source": [
        "A"
      ],
      "metadata": {
        "id": "4mv5q-nMKZwY",
        "outputId": "c61dedbc-acba-414d-eca5-45f99c1f5f9e",
        "colab": {
          "base_uri": "https://localhost:8080/"
        }
      },
      "execution_count": 2,
      "outputs": [
        {
          "output_type": "execute_result",
          "data": {
            "text/plain": [
              "array([[1.51915195e+01, 6.22108771e-01, 4.37727739e-01, 7.85358584e-01,\n",
              "        7.79975808e-01, 2.72592605e-01, 2.76464255e-01, 8.01872178e-01,\n",
              "        9.58139354e-01, 8.75932635e-01],\n",
              "       [3.57817270e-01, 1.55009951e+01, 6.83462935e-01, 7.12702027e-01,\n",
              "        3.70250755e-01, 5.61196186e-01, 5.03083165e-01, 1.37684496e-02,\n",
              "        7.72826622e-01, 8.82641191e-01],\n",
              "       [3.64885984e-01, 6.15396178e-01, 1.50753812e+01, 3.68824006e-01,\n",
              "        9.33140102e-01, 6.51378143e-01, 3.97202578e-01, 7.88730143e-01,\n",
              "        3.16836122e-01, 5.68098653e-01],\n",
              "       [8.69127390e-01, 4.36173424e-01, 8.02147642e-01, 1.51437668e+01,\n",
              "        7.04260971e-01, 7.04581308e-01, 2.18792106e-01, 9.24867629e-01,\n",
              "        4.42140755e-01, 9.09315959e-01],\n",
              "       [5.98092228e-02, 1.84287084e-01, 4.73552788e-02, 6.74880944e-01,\n",
              "        1.55946248e+01, 5.33310163e-01, 4.33240627e-02, 5.61433080e-01,\n",
              "        3.29668446e-01, 5.02966833e-01],\n",
              "       [1.11894318e-01, 6.07193706e-01, 5.65944643e-01, 6.76406199e-03,\n",
              "        6.17441709e-01, 1.59121229e+01, 7.90524133e-01, 9.92081466e-01,\n",
              "        9.58801762e-01, 7.91964135e-01],\n",
              "       [2.85250960e-01, 6.24916705e-01, 4.78093796e-01, 1.95675179e-01,\n",
              "        3.82317452e-01, 5.38736851e-02, 1.54516484e+01, 9.82004742e-01,\n",
              "        1.23942700e-01, 1.19380898e-01],\n",
              "       [7.38523056e-01, 5.87303633e-01, 4.71632534e-01, 1.07126817e-01,\n",
              "        2.29218565e-01, 8.99965195e-01, 4.16753538e-01, 1.55358517e+01,\n",
              "        6.20851659e-03, 3.00641706e-01],\n",
              "       [4.36893172e-01, 6.12148997e-01, 9.18198075e-01, 6.25736670e-01,\n",
              "        7.05997565e-01, 1.49833716e-01, 7.46063409e-01, 8.31006992e-01,\n",
              "        1.56337258e+01, 4.38309881e-01],\n",
              "       [1.52572775e-01, 5.68409615e-01, 5.28224278e-01, 9.51428764e-01,\n",
              "        4.80359179e-01, 5.02559563e-01, 5.36878193e-01, 8.19202067e-01,\n",
              "        5.71156381e-02, 1.56694217e+01]])"
            ]
          },
          "metadata": {},
          "execution_count": 2
        }
      ]
    },
    {
      "cell_type": "markdown",
      "metadata": {
        "id": "oNGIGBex1Grq"
      },
      "source": [
        "# I.  Jacobi iteration\n",
        "\n",
        "Given\n",
        "\n",
        "$$\n",
        "A x = b\n",
        "$$\n",
        "\n",
        "separate the diagonal part $D$,\n",
        "\n",
        "$$ A = D + (A - D) $$\n",
        "\n",
        "and write\n",
        "\n",
        "$$\n",
        "x = D^{-1} (D - A) x + D^{-1} b\\;.\n",
        "$$\n",
        "\n",
        "Then iterate\n",
        "\n",
        "$$\n",
        "x_{n + 1} = B x_{n} + c\\;,\n",
        "$$\n",
        "\n",
        "where \n",
        "\n",
        "$$\n",
        "B = D^{-1} (A - D) \\qquad \\text{and} \\qquad c = D^{-1} b\n",
        "$$\n"
      ]
    },
    {
      "cell_type": "markdown",
      "metadata": {
        "id": "rB2PHHIK1Grr"
      },
      "source": [
        "Let's construct the matrix and the r.h.s. for the Jacobi iteration"
      ]
    },
    {
      "cell_type": "code",
      "execution_count": 18,
      "metadata": {
        "id": "bnk796g61Grr"
      },
      "outputs": [],
      "source": [
        "diag_1d = np.diag(A)\n",
        "\n",
        "B = -A.copy()\n",
        "np.fill_diagonal(B, 0)\n",
        "\n",
        "D = np.diag(diag_1d)\n",
        "invD = np.diag(1./diag_1d)\n",
        "BB = invD @ B \n",
        "c = invD @ b"
      ]
    },
    {
      "cell_type": "code",
      "execution_count": 19,
      "metadata": {
        "id": "0NTUyC3i1Grs"
      },
      "outputs": [],
      "source": [
        "# sanity checks\n",
        "from numpy.testing import assert_allclose\n",
        "\n",
        "assert_allclose(-B + D, A)\n",
        "\n",
        "\n",
        "# xx is a \"ground truth\" solution, compute it using a direct method\n",
        "xx = np.linalg.solve(A, b)\n",
        "\n",
        "np.testing.assert_allclose(A@xx, b)\n",
        "np.testing.assert_allclose(D@xx, B@xx + b)\n",
        "np.testing.assert_allclose(xx, BB@xx + c)"
      ]
    },
    {
      "cell_type": "markdown",
      "metadata": {
        "id": "nRaVUE6U1Grt"
      },
      "source": [
        "Check that $\\| B\\| \\leqslant 1$:"
      ]
    },
    {
      "cell_type": "code",
      "execution_count": 20,
      "metadata": {
        "id": "zgED2OGu1Gru",
        "outputId": "54e83ad4-80dc-4698-ffbe-97286f735f25",
        "colab": {
          "base_uri": "https://localhost:8080/"
        }
      },
      "outputs": [
        {
          "output_type": "execute_result",
          "data": {
            "text/plain": [
              "0.36436161983015336"
            ]
          },
          "metadata": {},
          "execution_count": 20
        }
      ],
      "source": [
        "np.linalg.norm(BB)"
      ]
    },
    {
      "cell_type": "markdown",
      "metadata": {
        "id": "rlBcusqg1Grv"
      },
      "source": [
        "### Do the Jacobi iteration"
      ]
    },
    {
      "cell_type": "code",
      "execution_count": 21,
      "metadata": {
        "collapsed": true,
        "id": "NK6iwDtm1Grv"
      },
      "outputs": [],
      "source": [
        "n_iter = 50\n",
        "\n",
        "x0 = np.ones(n)\n",
        "x = x0\n",
        "for _ in range(n_iter):\n",
        "    x = BB @ x + c"
      ]
    },
    {
      "cell_type": "code",
      "execution_count": 22,
      "metadata": {
        "id": "gsLyio7W1Grw",
        "outputId": "4fd21956-d21c-4bd7-adbe-5d098cd8312f",
        "colab": {
          "base_uri": "https://localhost:8080/"
        }
      },
      "outputs": [
        {
          "output_type": "execute_result",
          "data": {
            "text/plain": [
              "array([ 1.11022302e-16,  0.00000000e+00, -2.22044605e-16, -1.11022302e-16,\n",
              "        1.11022302e-16,  0.00000000e+00, -2.42861287e-17,  0.00000000e+00,\n",
              "       -2.77555756e-17,  1.11022302e-16])"
            ]
          },
          "metadata": {},
          "execution_count": 22
        }
      ],
      "source": [
        "# Check the result:\n",
        "\n",
        "A @ x - b"
      ]
    },
    {
      "cell_type": "markdown",
      "metadata": {
        "id": "MXfb9BuT1Grw"
      },
      "source": [
        "### Task I.1\n",
        "\n",
        "Collect the proof-of-concept above into a single function implementing the Jacobi iteration. This function should receive the r.h.s. matrix $A$, the l.h.s. vector `b`, and the number of iterations to perform.\n",
        "\n",
        "\n",
        "The matrix $A$ in the illustration above is strongly diagonally dominant, by construction. \n",
        "What happens if the diagonal matrix elements of $A$ are made smaller? Check the convergence of the Jacobi iteration, and check the value of the norm of $B$.\n",
        "\n",
        "(20% of the total grade)\n"
      ]
    },
    {
      "cell_type": "code",
      "execution_count": 23,
      "metadata": {
        "collapsed": true,
        "id": "5zqTUVVa1Grw",
        "colab": {
          "base_uri": "https://localhost:8080/"
        },
        "outputId": "f51df44e-69c5-40d9-99fb-cab0d66d6664"
      },
      "outputs": [
        {
          "output_type": "stream",
          "name": "stdout",
          "text": [
            "[ 0.03919429  0.03780037  0.04283232  0.02365951  0.05745031 -0.00030244\n",
            " -0.00577279  0.03177549 -0.00422849  0.05284648]\n"
          ]
        }
      ],
      "source": [
        "def Jacobi_iteration(A, b, eps=1e-7, n_iter=50):\n",
        "    # Obtiene la diagonal de la matriz A\n",
        "    diag_1d = np.diag(A)\n",
        "    \n",
        "    # Crea una matriz B que es una copia negativa de A\n",
        "    B = -A.copy()\n",
        "    \n",
        "    # Rellena la diagonal de B con ceros\n",
        "    np.fill_diagonal(B, 0)\n",
        "    \n",
        "    # Calcula la inversa de la diagonal de A\n",
        "    invD = np.diag(1. / diag_1d)\n",
        "    \n",
        "    # Calcula la matriz BB = invD * B\n",
        "    BB = invD @ B\n",
        "    \n",
        "    # Calcula el vector c = invD * b\n",
        "    c = invD @ b\n",
        "    \n",
        "    # Inicializa el vector x con unos\n",
        "    x = np.ones(len(b))\n",
        "    \n",
        "    # Realiza la iteración de Jacobi\n",
        "    for _ in range(n_iter):\n",
        "        x = BB @ x + c\n",
        "    \n",
        "    return x\n",
        "\n",
        "# Ejemplo de uso:\n",
        "\n",
        "# Llamar a la función Jacobi_iteration para encontrar el vector de incógnitas x\n",
        "x = Jacobi_iteration(A, b)\n",
        "\n",
        "# Imprimir el resultado\n",
        "print(x)"
      ]
    },
    {
      "cell_type": "code",
      "source": [
        "# Verificar si A * x = b\n",
        "np.testing.assert_allclose(A @ x, b)\n",
        "\n",
        "# Verificar si x es igual a xx\n",
        "np.testing.assert_allclose(x, xx)"
      ],
      "metadata": {
        "id": "Jh9tYmPQ2isk"
      },
      "execution_count": 25,
      "outputs": []
    },
    {
      "cell_type": "code",
      "source": [
        "for k in range(1, 16):\n",
        "    # Crea una nueva matriz A1 modificada agregando una matriz diagonal con elementos negativos multiplicados por k\n",
        "    A1 = A + np.diagflat([-k]*n)\n",
        "    \n",
        "    # Calcula y muestra la norma de Frobenius de la matriz D @ (-A1.copy() + np.diag(np.diag(A1)))\n",
        "    # D es una matriz diagonal inversa de A1\n",
        "    norm1 = np.linalg.norm(np.diag(1./np.diag(A1)) @ (-A1.copy() + np.diag(np.diag(A1))))\n",
        "    \n",
        "    # Calcula y muestra la norma de Frobenius de la diferencia entre Jacobi_iteration(A1, b) y np.linalg.solve(A1, b)\n",
        "    norm2 = np.linalg.norm(Jacobi_iteration(A1, b) - np.linalg.solve(A1, b))\n",
        "    \n",
        "    # Imprime las normas calculadas\n",
        "    print(norm1, norm2)"
      ],
      "metadata": {
        "colab": {
          "base_uri": "https://localhost:8080/"
        },
        "id": "ted455yI2lk-",
        "outputId": "5ab54f98-a75c-4ff2-c7ca-d6adb3bdde75"
      },
      "execution_count": 27,
      "outputs": [
        {
          "output_type": "stream",
          "name": "stdout",
          "text": [
            "0.38959181027260875 2.005305120107153e-17\n",
            "0.4185783948614869 1.6502682545529e-17\n",
            "0.4522284025473819 3.622208959480119e-17\n",
            "0.4917667095178099 2.72080745804227e-17\n",
            "0.5388887887486234 2.3737838402225502e-17\n",
            "0.5960110344093966 1.0255972154762448e-15\n",
            "0.6667001660296402 2.770910834768342e-13\n",
            "0.7564517359241753 1.4990529163071287e-10\n",
            "0.8742017351588476 2.0161596093690869e-07\n",
            "1.0355299928250665 0.0009191717405677889\n",
            "1.2702850939751231 23.48163367953915\n",
            "1.6439565658213244 8260242.793633645\n",
            "2.334809111760855 261149802433164.72\n",
            "4.080768845910033 1.3716691464130682e+26\n",
            "30.715327603064885 1.7398635828491289e+61\n"
          ]
        }
      ]
    },
    {
      "cell_type": "markdown",
      "metadata": {
        "id": "xBnguRFT1Grx"
      },
      "source": [
        "# II. Seidel's iteration."
      ]
    },
    {
      "cell_type": "markdown",
      "metadata": {
        "id": "rSbuFdYU1Grx"
      },
      "source": [
        "##### Task II.1\n",
        "\n",
        "Implement the Seidel's iteration. \n",
        "\n",
        "Test it on a random matrix. Study the convergence of iterations, relate to the norm of the iteration matrix.\n",
        "\n",
        "(30% of the total grade)"
      ]
    },
    {
      "cell_type": "code",
      "execution_count": 28,
      "metadata": {
        "collapsed": true,
        "id": "FYygs3Ml1Grx",
        "colab": {
          "base_uri": "https://localhost:8080/"
        },
        "outputId": "8f57bc45-3b68-45e0-b38b-2ce6135f25bb"
      },
      "outputs": [
        {
          "output_type": "stream",
          "name": "stdout",
          "text": [
            "[ 0.03919429  0.03780037  0.04283232  0.02365951  0.05745031 -0.00030244\n",
            " -0.00577279  0.03177549 -0.00422849  0.05284648]\n"
          ]
        }
      ],
      "source": [
        "# ... ENTER YOUR CODE HERE ...\n",
        "def seidel_iteration(A, b, eps=1e-7, n_iter=50):\n",
        "    # Inicializar el vector x con unos\n",
        "    x = np.ones(b.shape[0])\n",
        "    \n",
        "    # Realizar la iteración de Gauss-Seidel\n",
        "    for _ in range(n_iter):\n",
        "        for k in range(b.shape[0]):\n",
        "            # Actualizar el valor de x[k] utilizando la fórmula de Gauss-Seidel\n",
        "            x[k] = (b[k] - np.dot(A[k][:k], x[:k]) - np.dot(A[k][k+1:], x[k+1:])) / A[k, k]\n",
        "    \n",
        "    return x\n",
        "  \n",
        "x = seidel_iteration(A,b)\n",
        "print(x)"
      ]
    },
    {
      "cell_type": "code",
      "source": [
        "np.testing.assert_allclose(A@x, b)\n",
        "np.testing.assert_allclose(x, xx)"
      ],
      "metadata": {
        "id": "2wxH6iee5XG3"
      },
      "execution_count": 29,
      "outputs": []
    },
    {
      "cell_type": "code",
      "source": [
        "for k in range(1, 16):\n",
        "    # Crear una nueva matriz A1 modificada\n",
        "    A1 = A + np.diagflat([-k]*n)\n",
        "    \n",
        "    # Calcular las normas\n",
        "    norm1 = np.linalg.norm(np.diag(1./np.diag(A1)) @ (-A1.copy() + np.diag(np.diag(A1))))\n",
        "    norm2 = np.linalg.norm(seidel_iteration(A1, b) - np.linalg.solve(A1, b))\n",
        "    \n",
        "    # Mostrar las normas\n",
        "    print(norm1, norm2)"
      ],
      "metadata": {
        "colab": {
          "base_uri": "https://localhost:8080/"
        },
        "id": "s8cvabGj5yKf",
        "outputId": "cdeeb2ae-6f38-4b96-a3a9-9e2a8842df1c"
      },
      "execution_count": 30,
      "outputs": [
        {
          "output_type": "stream",
          "name": "stdout",
          "text": [
            "0.38959181027260875 1.5540063044689707e-17\n",
            "0.4185783948614869 2.303412968156487e-17\n",
            "0.4522284025473819 3.3107778123195866e-17\n",
            "0.4917667095178099 1.717836144195444e-17\n",
            "0.5388887887486234 1.8703665918870363e-17\n",
            "0.5960110344093966 2.6208106743381504e-17\n",
            "0.6667001660296402 3.222105849667643e-17\n",
            "0.7564517359241753 3.894444544739273e-17\n",
            "0.8742017351588476 4.3610271956070115e-17\n",
            "1.0355299928250665 7.521581756278068e-17\n",
            "1.2702850939751231 6.691626947686432e-17\n",
            "1.6439565658213244 1.0829177162645093e-16\n",
            "2.334809111760855 1.1775693440128312e-16\n",
            "4.080768845910033 4.10633611443092e-09\n",
            "30.715327603064885 2.224327617064848e+114\n"
          ]
        }
      ]
    },
    {
      "cell_type": "markdown",
      "metadata": {
        "id": "y3PDxY8W1Gry"
      },
      "source": [
        "# III. Minimum residual scheme"
      ]
    },
    {
      "cell_type": "markdown",
      "metadata": {
        "id": "IbfUD6zy1Gry"
      },
      "source": [
        "### Task III.1\n",
        "\n",
        "Implement the $\\textit{minimum residual}$ scheme: an explicit non-stationary method, where at each step you select the iteration parameter $\\tau_n$ to minimize the residual $\\mathbf{r}_{n+1}$ given $\\mathbf{r}_n$. Test it on a random matrix, study the convergence to the solution, in terms of the norm of the residual and the deviation from the ground truth solution (which you can obtain using a direct method). Study how the iteration parameter $\\tau_n$ changes as iterations progress.\n",
        "\n",
        "(50% of the grade)"
      ]
    },
    {
      "cell_type": "code",
      "execution_count": 31,
      "metadata": {
        "collapsed": true,
        "id": "60_IGETi1Gry",
        "colab": {
          "base_uri": "https://localhost:8080/"
        },
        "outputId": "bf7a4c08-3b8f-4164-890e-1b6199b1abb5"
      },
      "outputs": [
        {
          "output_type": "stream",
          "name": "stdout",
          "text": [
            "[ 0.03919429  0.03780037  0.04283232  0.02365951  0.05745031 -0.00030244\n",
            " -0.00577279  0.03177549 -0.00422849  0.05284648]\n"
          ]
        }
      ],
      "source": [
        "# ... ENTER YOUR CODE HERE ...\n",
        "def minimum_res_scheme(A, b, eps=1e-7, n_iter=50):\n",
        "    x = np.ones(b.shape[0])  # Vector inicial\n",
        "    \n",
        "    for _ in range(n_iter):\n",
        "        r = A @ x - b  # Cálculo del residuo\n",
        "        k = (r @ A @ r) / np.linalg.norm(A @ r) ** 2  # Cálculo del factor de corrección\n",
        "        x = x - k * r  # Actualización de la solución aproximada\n",
        "        \n",
        "    return x\n",
        "\n",
        "\n",
        "x = minimum_res_scheme(A,b)\n",
        "print(x)"
      ]
    },
    {
      "cell_type": "code",
      "source": [
        "np.testing.assert_allclose(A@x, b)\n",
        "np.testing.assert_allclose(x, xx)"
      ],
      "metadata": {
        "id": "fLVlHldp62JA"
      },
      "execution_count": 32,
      "outputs": []
    },
    {
      "cell_type": "code",
      "source": [
        "for k in range(1, 16):\n",
        "    # Crear una nueva matriz A1 modificada\n",
        "    A1 = A + np.diagflat([-k]*n)\n",
        "    \n",
        "    # Calcular las normas utilizando el método del Régimen Residual Mínimo\n",
        "    norm1 = np.linalg.norm(np.diag(1./np.diag(A1)) @ (-A1.copy() + np.diag(np.diag(A1))))\n",
        "    norm2 = np.linalg.norm(minimum_res_scheme(A1, b) - np.linalg.solve(A1, b))\n",
        "    \n",
        "    # Mostrar las normas\n",
        "    print(norm1, norm2)"
      ],
      "metadata": {
        "colab": {
          "base_uri": "https://localhost:8080/"
        },
        "id": "5DdTo32E63Qt",
        "outputId": "61a25a7e-ef6e-47b7-c13e-a51931fe901c"
      },
      "execution_count": 34,
      "outputs": [
        {
          "output_type": "stream",
          "name": "stdout",
          "text": [
            "0.38959181027260875 2.224517603584333e-17\n",
            "0.4185783948614869 2.32747678105055e-17\n",
            "0.4522284025473819 3.7570382170898963e-17\n",
            "0.4917667095178099 3.1524751290996645e-17\n",
            "0.5388887887486234 1.6016862586769483e-17\n",
            "0.5960110344093966 2.2882574235218375e-17\n",
            "0.6667001660296402 3.309641454705087e-17\n",
            "0.7564517359241753 nan\n",
            "0.8742017351588476 4.4969172124985776e-17\n",
            "1.0355299928250665 6.331146576060244e-17\n",
            "1.2702850939751231 6.177174679671291e-17\n",
            "1.6439565658213244 1.0362341316682908e-16\n",
            "2.334809111760855 1.0820341707075497e-13\n",
            "4.080768845910033 0.0002171791368378776\n",
            "30.715327603064885 2.0818042350846104\n"
          ]
        },
        {
          "output_type": "stream",
          "name": "stderr",
          "text": [
            "<ipython-input-31-8f4a7008ab22>:7: RuntimeWarning: invalid value encountered in double_scalars\n",
            "  k = (r @ A @ r) / np.linalg.norm(A @ r) ** 2  # Cálculo del factor de corrección\n"
          ]
        }
      ]
    }
  ],
  "metadata": {
    "kernelspec": {
      "display_name": "Python 3",
      "language": "python",
      "name": "python3"
    },
    "language_info": {
      "codemirror_mode": {
        "name": "ipython",
        "version": 3
      },
      "file_extension": ".py",
      "mimetype": "text/x-python",
      "name": "python",
      "nbconvert_exporter": "python",
      "pygments_lexer": "ipython3",
      "version": "3.5.2"
    },
    "colab": {
      "provenance": []
    }
  },
  "nbformat": 4,
  "nbformat_minor": 0
}